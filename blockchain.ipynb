{
 "cells": [
  {
   "cell_type": "code",
   "execution_count": null,
   "metadata": {},
   "outputs": [],
   "source": [
    "#hashing a string\n",
    "import hashlib\n",
    "\n",
    "# to encode the string \n",
    "\n",
    "input_bytes = b\"quantoums\"\n",
    "\n",
    "# create the hash\n",
    "output = hashlib.sha256(input_bytes)\n",
    "\n",
    "# hexdigest() to transform output from bytes to hex\n",
    "print(output.hexdigest())"
   ]
  },
  {
   "cell_type": "code",
   "execution_count": null,
   "metadata": {},
   "outputs": [],
   "source": [
    "# hashing files\n",
    "from hashlib import sha256\n",
    "\n",
    "#rb to specifiy to open in read only mode\n",
    "\n",
    "file = open(\"image.jpg\",\"rb\")\n",
    "\n",
    "hash = sha256(file.read()).hexdigest()\n",
    "\n",
    "file.close()\n",
    "\n",
    "print(f\"The hash of my file is : {hash}\")"
   ]
  },
  {
   "cell_type": "code",
   "execution_count": null,
   "metadata": {},
   "outputs": [],
   "source": [
    "# hashing emails with HMAC protocols (email_body contains the hash at the end, \n",
    "#by computing the hash of the email_body(without hash) + secret_phrase ), the receiver can check if they\n",
    "# correspond\n",
    "\n",
    "from hashlib import sha256\n",
    "\n",
    "secret_phrase='bolognese'\n",
    "\n",
    "def get_hash_with_secret_phrase(input_data,secret_phrase) :\n",
    "\n",
    "    combined = input_data + secret_phrase \n",
    "\n",
    "    return sha256(combined.encode()).hexdigest()\n",
    "\n",
    "email_body = \"Salut Frero, je t'aime !\"\n",
    "\n",
    "print(get_hash_with_secret_phrase(email_body,secret_phrase))\n"
   ]
  },
  {
   "cell_type": "code",
   "execution_count": 3,
   "metadata": {},
   "outputs": [
    {
     "name": "stdout",
     "output_type": "stream",
     "text": [
      "The solution is y = 15 \n",
      "\n",
      "The hash is : 1253e9373e781b7500266caa55150e08e210bc8cd8cc70d89985e3600155e860\n"
     ]
    }
   ],
   "source": [
    "# Trivial examople of Proof-of-Work algorithm\n",
    "# find y such that for a given x : hash(x*y) (in hex) ends with 0\n",
    "\n",
    "from hashlib import sha256\n",
    "\n",
    "\n",
    "x = 7\n",
    "\n",
    "y = 0\n",
    "\n",
    "while sha256(f'{x*y}'.encode()).hexdigest()[-1] != '0':\n",
    "\n",
    "    y+=1\n",
    "\n",
    "print(f'The solution is y = {y} \\n')\n",
    "print( 'The hash is : ' + sha256(f'{x*y}'.encode()).hexdigest())\n",
    "\n"
   ]
  }
 ],
 "metadata": {
  "kernelspec": {
   "display_name": "Python 3",
   "language": "python",
   "name": "python3"
  },
  "language_info": {
   "codemirror_mode": {
    "name": "ipython",
    "version": 3
   },
   "file_extension": ".py",
   "mimetype": "text/x-python",
   "name": "python",
   "nbconvert_exporter": "python",
   "pygments_lexer": "ipython3",
   "version": "3.11.2"
  },
  "orig_nbformat": 4
 },
 "nbformat": 4,
 "nbformat_minor": 2
}
